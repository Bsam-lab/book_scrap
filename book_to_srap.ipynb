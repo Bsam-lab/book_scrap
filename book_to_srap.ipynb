{
 "cells": [
  {
   "cell_type": "code",
   "execution_count": 1,
   "metadata": {},
   "outputs": [],
   "source": [
    "import requests\n",
    "from bs4 import BeautifulSoup"
   ]
  },
  {
   "cell_type": "code",
   "execution_count": 2,
   "metadata": {},
   "outputs": [],
   "source": [
    "url='https://books.toscrape.com/'"
   ]
  },
  {
   "cell_type": "code",
   "execution_count": 4,
   "metadata": {},
   "outputs": [],
   "source": [
    "response = requests.get(url)\n",
    "soup = BeautifulSoup(response.text, 'html.parser')\n",
    "# soup"
   ]
  },
  {
   "cell_type": "code",
   "execution_count": 7,
   "metadata": {},
   "outputs": [
    {
     "data": {
      "text/plain": [
       "1"
      ]
     },
     "execution_count": 7,
     "metadata": {},
     "output_type": "execute_result"
    }
   ],
   "source": [
    "books_div= soup.find_all('ol',{'class':'row'})\n",
    "len(books_div)"
   ]
  },
  {
   "cell_type": "code",
   "execution_count": 8,
   "metadata": {},
   "outputs": [
    {
     "data": {
      "text/plain": [
       "20"
      ]
     },
     "execution_count": 8,
     "metadata": {},
     "output_type": "execute_result"
    }
   ],
   "source": [
    "books= books_div[0].find_all('li',{'class':'col-xs-6 col-sm-4 col-md-3 col-lg-3'})\n",
    "len(books)"
   ]
  },
  {
   "cell_type": "code",
   "execution_count": 9,
   "metadata": {},
   "outputs": [],
   "source": [
    "# Arrays to store\n",
    "titles= []\n",
    "prices=[] \n",
    "images=[]\n",
    "\n",
    "book_titles = soup. find_all('article', {'class': 'product_pod'})\n",
    "for i in book_titles:\n",
    "    # titles\n",
    "    book_h3 = i.find('h3')\n",
    "    book_tag = book_h3.find('a')\n",
    "    titles.append(book_tag.text)\n",
    "    # book_t = book_tag[ 'title']\n",
    "    # titles. append (book_t)\n",
    "    # prices\n",
    "    book_price_tag = i.find('p', {'class': 'price_color'})\n",
    "    prices.append(book_price_tag.text)\n",
    "    # images\n",
    "    book_image_tag = i.find('div', {'class': 'image_container'})\n",
    "    image_a = book_image_tag. find('a')\n",
    "    # images. append (image_a.text)\n",
    "    images.append(image_a.get('href'))\n"
   ]
  },
  {
   "cell_type": "code",
   "execution_count": 11,
   "metadata": {},
   "outputs": [
    {
     "data": {
      "text/html": [
       "<div>\n",
       "<style scoped>\n",
       "    .dataframe tbody tr th:only-of-type {\n",
       "        vertical-align: middle;\n",
       "    }\n",
       "\n",
       "    .dataframe tbody tr th {\n",
       "        vertical-align: top;\n",
       "    }\n",
       "\n",
       "    .dataframe thead th {\n",
       "        text-align: right;\n",
       "    }\n",
       "</style>\n",
       "<table border=\"1\" class=\"dataframe\">\n",
       "  <thead>\n",
       "    <tr style=\"text-align: right;\">\n",
       "      <th></th>\n",
       "      <th>title</th>\n",
       "      <th>price</th>\n",
       "      <th>image</th>\n",
       "    </tr>\n",
       "  </thead>\n",
       "  <tbody>\n",
       "    <tr>\n",
       "      <th>0</th>\n",
       "      <td>A Light in the ...</td>\n",
       "      <td>£51.77</td>\n",
       "      <td>catalogue/a-light-in-the-attic_1000/index.html</td>\n",
       "    </tr>\n",
       "    <tr>\n",
       "      <th>1</th>\n",
       "      <td>Tipping the Velvet</td>\n",
       "      <td>£53.74</td>\n",
       "      <td>catalogue/tipping-the-velvet_999/index.html</td>\n",
       "    </tr>\n",
       "    <tr>\n",
       "      <th>2</th>\n",
       "      <td>Soumission</td>\n",
       "      <td>£50.10</td>\n",
       "      <td>catalogue/soumission_998/index.html</td>\n",
       "    </tr>\n",
       "    <tr>\n",
       "      <th>3</th>\n",
       "      <td>Sharp Objects</td>\n",
       "      <td>£47.82</td>\n",
       "      <td>catalogue/sharp-objects_997/index.html</td>\n",
       "    </tr>\n",
       "    <tr>\n",
       "      <th>4</th>\n",
       "      <td>Sapiens: A Brief History ...</td>\n",
       "      <td>£54.23</td>\n",
       "      <td>catalogue/sapiens-a-brief-history-of-humankind...</td>\n",
       "    </tr>\n",
       "  </tbody>\n",
       "</table>\n",
       "</div>"
      ],
      "text/plain": [
       "                          title   price  \\\n",
       "0            A Light in the ...  £51.77   \n",
       "1            Tipping the Velvet  £53.74   \n",
       "2                    Soumission  £50.10   \n",
       "3                 Sharp Objects  £47.82   \n",
       "4  Sapiens: A Brief History ...  £54.23   \n",
       "\n",
       "                                               image  \n",
       "0     catalogue/a-light-in-the-attic_1000/index.html  \n",
       "1        catalogue/tipping-the-velvet_999/index.html  \n",
       "2                catalogue/soumission_998/index.html  \n",
       "3             catalogue/sharp-objects_997/index.html  \n",
       "4  catalogue/sapiens-a-brief-history-of-humankind...  "
      ]
     },
     "execution_count": 11,
     "metadata": {},
     "output_type": "execute_result"
    }
   ],
   "source": [
    "import pandas as pd\n",
    "to_scrap_books = pd.DataFrame({'title': titles,  'price':prices, 'image':images})\n",
    "# to_scrap_books\n",
    "to_scrap_books['price'] = to_scrap_books['price'].str.replace('Â','')\n",
    "to_scrap_books.head()"
   ]
  },
  {
   "cell_type": "code",
   "execution_count": 12,
   "metadata": {},
   "outputs": [],
   "source": [
    "to_scrap_books.to_csv('scrap_20_book.csv')"
   ]
  }
 ],
 "metadata": {
  "kernelspec": {
   "display_name": "Python 3",
   "language": "python",
   "name": "python3"
  },
  "language_info": {
   "codemirror_mode": {
    "name": "ipython",
    "version": 3
   },
   "file_extension": ".py",
   "mimetype": "text/x-python",
   "name": "python",
   "nbconvert_exporter": "python",
   "pygments_lexer": "ipython3",
   "version": "3.7.6"
  }
 },
 "nbformat": 4,
 "nbformat_minor": 4
}
